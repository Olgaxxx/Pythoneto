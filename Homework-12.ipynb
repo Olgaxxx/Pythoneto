{
 "cells": [
  {
   "cell_type": "code",
   "execution_count": 4,
   "metadata": {},
   "outputs": [
    {
     "name": "stdout",
     "output_type": "stream",
     "text": [
      "   userId  movieId  rating   timestamp            class\n",
      "0       1      296     5.0  1147880044  высокий рейтинг\n",
      "1       1      306     3.5  1147868817  средний рейтинг\n",
      "2       1      307     5.0  1147868828  высокий рейтинг\n",
      "3       1      665     5.0  1147878820  высокий рейтинг\n",
      "4       1      899     3.5  1147868510  средний рейтинг\n"
     ]
    }
   ],
   "source": [
    "import pandas as pd\n",
    "import re\n",
    " \n",
    "\"\"\"\n",
    "Напишите функцию, которая классифицирует фильмы из материалов занятия по следующим правилам:\n",
    "- оценка 2 и меньше - низкий рейтинг\n",
    "- оценка 4 и меньше - средний рейтинг\n",
    "- оценка 4.5 и 5 - высокий рейтинг\n",
    " \n",
    "Результат классификации запишите в столбец class\n",
    "\"\"\"\n",
    " \n",
    "data = pd.read_csv('ratings.csv')\n",
    "def func(rate):\n",
    "    if rate <= 2:\n",
    "        return 'низкий рейтинг'\n",
    "    elif rate <= 4:\n",
    "        return 'средний рейтинг'\n",
    "    else:\n",
    "        return 'высокий рейтинг'\n",
    " \n",
    "data['class'] = data['rating'].apply(func)\n",
    "print(data.head())"
   ]
  },
  {
   "cell_type": "code",
   "execution_count": 9,
   "metadata": {},
   "outputs": [
    {
     "name": "stdout",
     "output_type": "stream",
     "text": [
      "         keyword     shows     region\n",
      "0   вк ярославль  64292779      Центр\n",
      "1  одноклассники  63810309  undefined\n",
      "2          порно  41747114  undefined\n",
      "3           ютуб  39995567  undefined\n",
      "4      вконтакте  21014195  undefined\n"
     ]
    }
   ],
   "source": [
    "\"\"\"\n",
    "Необходимо написать гео-классификатор, который каждой строке сможет выставить географическую принадлежность\n",
    "определенному региону. Т. е. если поисковый запрос содержит название города региона, то в столбце ‘region’\n",
    "пишется название этого региона. Если поисковый запрос не содержит названия города, то ставим ‘undefined’.\n",
    "\"\"\"\n",
    "data = pd.read_csv('keywords.csv')\n",
    "regions = {'Центр': ['москва', 'тула', 'ярославль'], 'Северо-Запад': ['петербург', 'псков', 'мурманск'], 'Дальний Восток': ['владивосток', 'сахалин', 'хабаровск']}\n",
    "def func(query):\n",
    "    words = query.lower().split(' ')\n",
    "    for i in regions:\n",
    "        if list(set(words) & set(regions[i])) != []:\n",
    "            return i\n",
    "    return 'undefined'\n",
    " \n",
    "data['region'] = data['keyword'].apply(func)\n",
    "print(data.head())"
   ]
  },
  {
   "cell_type": "code",
   "execution_count": 32,
   "metadata": {},
   "outputs": [
    {
     "name": "stdout",
     "output_type": "stream",
     "text": [
      "        rating\n",
      "year          \n",
      "1987  3.745378\n",
      "1952  3.743007\n",
      "1950  3.739209\n",
      "1957  3.711310\n",
      "1981  3.680736\n"
     ]
    }
   ],
   "source": [
    "\"\"\"\n",
    "В переменную years запишите список из всех годов с 1950 по 2010.\n",
    "Напишите функцию production_year, которая каждой строке из названия фильма выставляет год выпуска.\n",
    "Не все названия фильмов содержат год выпуска в одинаковом формате, поэтому используйте следующий алгоритм:\n",
    "для каждой строки пройдите по всем годам списка years\n",
    "если номер года присутствует в названии фильма, то функция возвращает этот год как год выпуска\n",
    "если ни один из номеров года списка years не встретился в названии фильма, то возвращается 1900 год\n",
    "Запишите год выпуска фильма по алгоритму пункта 2 в новый столбец ‘year’\n",
    "Посчитайте средний рейтинг всех фильмов для каждого значения столбца ‘year’ и отсортируйте результат по убыванию рейтинга\n",
    "\"\"\"\n",
    "data_ratings = pd.read_csv('ratings.csv')\n",
    "data_movies = pd.read_csv('movies.csv')\n",
    "years = [str(x) for x in range(1950, 2011)]\n",
    "def production_year(title):\n",
    "    y = re.search(r'\\d{4}', title)\n",
    "    if y is not None and y[0] in years:\n",
    "        return y[0]\n",
    "    return '1900'    \n",
    "    \n",
    "data_ratings['year'] = data_movies['title'].apply(production_year)\n",
    "data_ratings = data_ratings.filter(items = ['year', 'rating'])\n",
    "sorted_data = data_ratings.groupby('year').mean().sort_values('rating', ascending=False)\n",
    "print(sorted_data.head())"
   ]
  }
 ],
 "metadata": {
  "kernelspec": {
   "display_name": "Python 3",
   "language": "python",
   "name": "python3"
  },
  "language_info": {
   "codemirror_mode": {
    "name": "ipython",
    "version": 3
   },
   "file_extension": ".py",
   "mimetype": "text/x-python",
   "name": "python",
   "nbconvert_exporter": "python",
   "pygments_lexer": "ipython3",
   "version": "3.8.5"
  }
 },
 "nbformat": 4,
 "nbformat_minor": 4
}
