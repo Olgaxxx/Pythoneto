{
 "cells": [
  {
   "cell_type": "code",
   "execution_count": null,
   "metadata": {},
   "outputs": [],
   "source": [
    "import json\n",
    "f = open('purchase_log.txt', 'r', encoding = 'utf-8') # Открытие файла на чтение целиком в оперативку\n",
    "content = f.readlines() # содержимое purchase_log.txt помещается в оперативную память компьютера\n",
    "purchases = {}\n",
    "for i in content[1:]:\n",
    "    i = json.loads(i)\n",
    "    purchases[i['user_id']] = i['category'] # создали словарь - пункт 1 выполнен\n",
    "f.close() #Закрытие файла\n",
    " \n",
    "with open('visit_log.csv', 'r', encoding = 'utf-8') as f: # открываю через контекстный менеджер\n",
    "    with open('funnel.csv', 'w', encoding = 'utf-8') as r:\n",
    "        x = []\n",
    "        for line in f:\n",
    "            line = line.strip().split(',') # Получаю списки ['user_id,source]\n",
    "            if line[0] in purchases.keys():\n",
    "                line.append(purchases[line[0]])\n",
    "                y = line\n",
    "                x.append(y) # Тут я делаю список списков, потому что \"json.loads (and json.load) does not decode multiple json object.\" (с)                \n",
    "        json.dump(x, r, ensure_ascii=False) # Закидываю получившиййся список в funnel.csv - пункт 2 выполнен"
   ]
  }
 ],
 "metadata": {
  "kernelspec": {
   "display_name": "Python 3",
   "language": "python",
   "name": "python3"
  },
  "language_info": {
   "codemirror_mode": {
    "name": "ipython",
    "version": 3
   },
   "file_extension": ".py",
   "mimetype": "text/x-python",
   "name": "python",
   "nbconvert_exporter": "python",
   "pygments_lexer": "ipython3",
   "version": "3.8.3"
  }
 },
 "nbformat": 4,
 "nbformat_minor": 4
}
