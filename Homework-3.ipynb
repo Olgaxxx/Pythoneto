{
 "cells": [
  {
   "cell_type": "code",
   "execution_count": 1,
   "metadata": {},
   "outputs": [
    {
     "name": "stdout",
     "output_type": "stream",
     "text": [
      "{98, 35, 15, 213, 54, 119}\n"
     ]
    }
   ],
   "source": [
    "ids = {\n",
    "   'user1': [213, 213, 213, 15, 213],\n",
    "   'user2': [54, 54, 119, 119, 119],\n",
    "   'user3': [213, 98, 98, 35]\n",
    "       }\n",
    "x = []\n",
    "for i in ids.values():\n",
    "   x = x + i\n",
    "print(set(x))"
   ]
  },
  {
   "cell_type": "code",
   "execution_count": 2,
   "metadata": {},
   "outputs": [
    {
     "name": "stdout",
     "output_type": "stream",
     "text": [
      "Поисковых запросов, содержащих 2 слов(а): 42.86 %\n",
      "Поисковых запросов, содержащих 3 слов(а): 57.14 %\n"
     ]
    }
   ],
   "source": [
    "queries = [\n",
    "'смотреть сериалы онлайн',\n",
    "'новости спорта',\n",
    "'афиша кино',\n",
    "'курс доллара',\n",
    "'сериалы этим летом',\n",
    "'курс по питону',\n",
    "'сериалы про спорт',\n",
    "           ]\n",
    "spisokSlov = [i.split() for i in queries]\n",
    "spisokDlin = sorted([len(i) for i in spisokSlov])\n",
    "unic = []\n",
    "for i in spisokDlin:\n",
    "   if i not in unic:\n",
    "      unic.append(i)\n",
    "      print(f'Поисковых запросов, содержащих {i} слов(а): {round(spisokDlin.count(i)/len(spisokDlin)*100, 2)} %')"
   ]
  },
  {
   "cell_type": "code",
   "execution_count": 3,
   "metadata": {},
   "outputs": [
    {
     "name": "stdout",
     "output_type": "stream",
     "text": [
      "{'vk': {'revenue': 103, 'cost': 98, 'ROI': 5.1}, 'yandex': {'revenue': 179, 'cost': 153, 'ROI': 16.99}, 'facebook': {'revenue': 103, 'cost': 110, 'ROI': -6.36}, 'adwords': {'revenue': 35, 'cost': 34, 'ROI': 2.94}, 'twitter': {'revenue': 11, 'cost': 24, 'ROI': -54.17}}\n"
     ]
    }
   ],
   "source": [
    "results = {\n",
    "'vk': {'revenue': 103, 'cost': 98},\n",
    "'yandex': {'revenue': 179, 'cost': 153},\n",
    "'facebook': {'revenue': 103, 'cost': 110},\n",
    "'adwords': {'revenue': 35, 'cost': 34},\n",
    "'twitter': {'revenue': 11, 'cost': 24},\n",
    "          }\n",
    " \n",
    "for i in results:\n",
    "   results[i]['ROI'] = round((results[i]['revenue'] / results[i]['cost'] - 1) * 100, 2)\n",
    "print(results)"
   ]
  },
  {
   "cell_type": "code",
   "execution_count": 4,
   "metadata": {},
   "outputs": [
    {
     "name": "stdout",
     "output_type": "stream",
     "text": [
      "Максимальный объем продаж на рекламном канале: vk\n"
     ]
    }
   ],
   "source": [
    "stats = {\n",
    "   'facebook': 55,\n",
    "   'yandex': 115,\n",
    "   'vk': 120,\n",
    "   'google': 99,\n",
    "   'email': 42,\n",
    "   'ok': 98\n",
    "         }\n",
    "for i in stats:\n",
    "   if stats[i] == max(stats.values()):\n",
    "      print(f'Максимальный объем продаж на рекламном канале: {i}')"
   ]
  }
 ],
 "metadata": {
  "kernelspec": {
   "display_name": "Python 3",
   "language": "python",
   "name": "python3"
  },
  "language_info": {
   "codemirror_mode": {
    "name": "ipython",
    "version": 3
   },
   "file_extension": ".py",
   "mimetype": "text/x-python",
   "name": "python",
   "nbconvert_exporter": "python",
   "pygments_lexer": "ipython3",
   "version": "3.8.3"
  }
 },
 "nbformat": 4,
 "nbformat_minor": 4
}
