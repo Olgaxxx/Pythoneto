{
 "cells": [
  {
   "cell_type": "code",
   "execution_count": 1,
   "metadata": {},
   "outputs": [
    {
     "name": "stdout",
     "output_type": "stream",
     "text": [
      "Номер АВ222С96 валиден. Регион: 96\n",
      "Номер не валиден\n"
     ]
    }
   ],
   "source": [
    "import re\n",
    " \n",
    "def number_validation(number):\n",
    "    match = re.fullmatch(r'[АВЕКМНОРСТУХ]{1,2}\\d{3}[АВЕКМНОРСТУХ](\\d{2,3})\\s*', number)    \n",
    "    print(f'Номер {number} валиден. Регион: {match[1]}'if match else 'Номер не валиден')\n",
    " \n",
    "number_validation('АВ222С96') # Результат: Номер АВ222С96 валиден. Регион: 96\n",
    "number_validation('АБ22ВВ193') # Результат: Номер не валиден"
   ]
  },
  {
   "cell_type": "code",
   "execution_count": 2,
   "metadata": {},
   "outputs": [
    {
     "name": "stdout",
     "output_type": "stream",
     "text": [
      "Напишите функцию, которая будет удалять\n",
      "все последовательные повторы слов из заданной строки\n",
      "при помощи регулярных выражений\n"
     ]
    },
    {
     "data": {
      "text/plain": [
       "'Результат: Напишите функцию, которая будет удалять\\nвсе последовательные повторы слов из заданной строки\\nпри помощи регулярных выражений'"
      ]
     },
     "execution_count": 2,
     "metadata": {},
     "output_type": "execute_result"
    }
   ],
   "source": [
    "import re\n",
    " \n",
    "def unstutter(string):\n",
    "    print(re.sub(r'\\b([^\\W\\d_]+)(\\s+\\1)+\\b', r'\\1', string, flags=re.I))\n",
    "    \"\"\"С помощью sub заменяю слово1+пробел+слово1 на слово1.\"\"\"\n",
    " \n",
    "some_string = '''Напишите функцию функцию, которая будет будет будет будет удалять\n",
    "все все все все последовательные повторы слов из из из из заданной строки строки\n",
    "при помощи регулярных выражений'''\n",
    " \n",
    "unstutter(some_string)\n",
    "\"\"\"Результат: Напишите функцию, которая будет удалять\n",
    "все последовательные повторы слов из заданной строки\n",
    "при помощи регулярных выражений\"\"\""
   ]
  },
  {
   "cell_type": "code",
   "execution_count": 3,
   "metadata": {},
   "outputs": [
    {
     "name": "stdout",
     "output_type": "stream",
     "text": [
      "ИТ\n"
     ]
    }
   ],
   "source": [
    "import re\n",
    " \n",
    "def acronym(string):\n",
    "    print(re.sub(r'([^\\W\\d_])([^\\W\\d_]+\\s*)', r'\\1', string).upper())\n",
    "    \"\"\"sub-ом превращаю слово в первую букву и через строковый\n",
    "                метод привожу к верхнему регистру\"\"\"\n",
    " \n",
    "some_words = 'Информационные технологии'\n",
    " \n",
    "acronym(some_words) # Результат: ИТ"
   ]
  },
  {
   "cell_type": "code",
   "execution_count": 4,
   "metadata": {},
   "outputs": [
    {
     "name": "stdout",
     "output_type": "stream",
     "text": [
      "gmail.com: 2\n",
      "test.in: 1\n",
      "ya.ru: 2\n",
      "mail.ru: 1\n"
     ]
    },
    {
     "data": {
      "text/plain": [
       "'\\nРезультат:\\ngmail.com: 2\\ntest.in: 1\\nya.ru: 2\\nmail.ru: 1\\n'"
      ]
     },
     "execution_count": 4,
     "metadata": {},
     "output_type": "execute_result"
    }
   ],
   "source": [
    "import re\n",
    " \n",
    "def domain_counter(emails):\n",
    "    dom_list = [(re.findall(r'(?<=@)([a-z.]+)', i))[0] for i in emails]\n",
    "    dom_dict = {i: dom_list.count(i) for i in dom_list}\n",
    "    for i in dom_dict:\n",
    "        print(f'{i}: {dom_dict[i]}')\n",
    " \n",
    "emails = ['test@gmail.com', 'xyz@test.in', 'test@ya.ru', 'xyz@mail.ru', 'xyz@ya.ru', 'xyz@gmail.com']\n",
    " \n",
    "domain_counter(emails)\n",
    "\"\"\"\n",
    "Результат:\n",
    "gmail.com: 2\n",
    "test.in: 1\n",
    "ya.ru: 2\n",
    "mail.ru: 1\n",
    "\"\"\""
   ]
  },
  {
   "cell_type": "code",
   "execution_count": 5,
   "metadata": {},
   "outputs": [
    {
     "name": "stdout",
     "output_type": "stream",
     "text": [
      "Слов на гласные буквы: 9\n",
      "Слов на согласные буквы: 21\n"
     ]
    },
    {
     "data": {
      "text/plain": [
       "'\\nРезультат:\\nСлов на гласные буквы: 9\\nСлов на согласные буквы: 21\\n'"
      ]
     },
     "execution_count": 5,
     "metadata": {},
     "output_type": "execute_result"
    }
   ],
   "source": [
    "import re\n",
    " \n",
    "def vowels_counter(text):\n",
    "    x = len(re.findall(r'\\b[ауоыиэяюёеaeiouy]', text, flags=re.I))\n",
    "    print(f\"Слов на гласные буквы: {x}\")\n",
    "    y = len(re.findall(r'\\b[бвгджзйклмнпрстфхцчшщbcdfghjklmnpqrstvwxz]', text, flags=re.I))\n",
    "    print(f\"Слов на согласные буквы: {y}\")\n",
    " \n",
    "some_text = '''Эталонной реализацией Python является интерпретатор CPython,\n",
    "поддерживающий большинство активно используемых платформ. Он распространяется\n",
    "под свободной лицензией Python Software Foundation License, позволяющей использовать\n",
    "его без ограничений в любых приложениях, включая проприетарные.'''\n",
    " \n",
    "vowels_counter(some_text)\n",
    "\"\"\"\n",
    "Результат:\n",
    "Слов на гласные буквы: 9\n",
    "Слов на согласные буквы: 21\n",
    "\"\"\""
   ]
  },
  {
   "cell_type": "code",
   "execution_count": 6,
   "metadata": {},
   "outputs": [
    {
     "name": "stdout",
     "output_type": "stream",
     "text": [
      "+7-955-555-55-55\n"
     ]
    },
    {
     "data": {
      "text/plain": [
       "'\\nРезультат:\\nВсё работает. Выполнено условие охвата максимального охвата вариантов\\nввода номера - достаточно того, бы чтобы в номере были 10 цифр, не считая 8(+7)\\n'"
      ]
     },
     "execution_count": 6,
     "metadata": {},
     "output_type": "execute_result"
    }
   ],
   "source": [
    "import re\n",
    " \n",
    "def phone_num_validator(number):\n",
    "    x = re.findall(r'\\d', number)\n",
    "    y = len(re.findall(r'\\d', number))\n",
    "    if y == 10:\n",
    "        print(f'+7-{x[0]}{x[1]}{x[2]}-{x[3]}{x[4]}{x[5]}-{x[6]}{x[7]}-{x[8]}{x[9]}')\n",
    "    elif x[0] == '7' or x[0] == '8' and y == 11:\n",
    "        print(f'+7-{x[1]}{x[2]}{x[3]}-{x[4]}{x[5]}{x[6]}-{x[7]}{x[8]}-{x[9]}{x[10]}')\n",
    "    else:\n",
    "        print('Номер не валиден')\n",
    "    \n",
    " \n",
    "phone = '8(955)555-55-55'\n",
    " \n",
    "phone_num_validator(phone)\n",
    "\"\"\"\n",
    "Результат:\n",
    "Всё работает. Выполнено условие охвата максимального охвата вариантов\n",
    "ввода номера - достаточно того, бы чтобы в номере были 10 цифр, не считая 8(+7)\n",
    "\"\"\""
   ]
  }
 ],
 "metadata": {
  "kernelspec": {
   "display_name": "Python 3",
   "language": "python",
   "name": "python3"
  },
  "language_info": {
   "codemirror_mode": {
    "name": "ipython",
    "version": 3
   },
   "file_extension": ".py",
   "mimetype": "text/x-python",
   "name": "python",
   "nbconvert_exporter": "python",
   "pygments_lexer": "ipython3",
   "version": "3.8.3"
  }
 },
 "nbformat": 4,
 "nbformat_minor": 4
}
