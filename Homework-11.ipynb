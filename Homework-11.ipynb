{
 "cells": [
  {
   "cell_type": "code",
   "execution_count": 2,
   "metadata": {},
   "outputs": [
    {
     "name": "stdout",
     "output_type": "stream",
     "text": [
      "314    Shawshank Redemption, The (1994)\n",
      "Name: title, dtype: object\n"
     ]
    }
   ],
   "source": [
    "import pandas as pd\n",
    "\"\"\"\n",
    "Скачайте с сайта https://grouplens.org/datasets/movielens/ датасет любого размера.\n",
    "Определите какому фильму было выставлено больше всего оценок 5.0.\n",
    "\"\"\"\n",
    "data = pd.read_csv('ratings.csv')\n",
    "only_imp_data = data.filter(items = ['movieId', 'rating'])\n",
    "only_five = only_imp_data[ only_imp_data.rating == 5.0 ]\n",
    " \n",
    "x = only_five['movieId'].value_counts().head(1).keys()[0] # теперь мы знаем нужный movieId\n",
    " \n",
    "data_2 = pd.read_csv('movies.csv')\n",
    " \n",
    "print(data_2[data_2.movieId == x]['title']) # Результат: Shawshank Redemption, The (1994)"
   ]
  },
  {
   "cell_type": "code",
   "execution_count": 3,
   "metadata": {},
   "outputs": [
    {
     "name": "stdout",
     "output_type": "stream",
     "text": [
      "['Lithuania' 'Latvia' 'Estonia' 'State of Palestine' 'Timor-Leste']\n",
      "Суммарное потребление: 240580.0\n"
     ]
    }
   ],
   "source": [
    "\"\"\"\n",
    "По данным файла power.csv посчитайте суммарное потребление стран\n",
    "Прибалтики (Латвия, Литва и Эстония) категорий 4, 12 и 21 за период с 2005 по 2010 года.\n",
    "Не учитывайте в расчетах отрицательные значения quantity.\n",
    "\"\"\"\n",
    " \n",
    "data = pd.read_csv('power.csv')\n",
    " \n",
    "\"\"\" Узнаем как в файле названы нужные страны \"\"\"\n",
    "print(data[ data['country'].str.contains('lat', case=False) | data['country'].str.contains('lit', case=False) | data['country'].str.contains('est', case=False) ]['country'].unique())\n",
    "#'Latvia' 'Lithuania' 'Estonia'\n",
    "filtered_countries = data[ (data['country']=='Latvia') | (data['country']=='Lithuania') | (data['country']=='Estonia') ]\n",
    "filtered_categories = filtered_countries[ (filtered_countries['category'] == 4) | (filtered_countries['category'] == 12) | (filtered_countries['category'] == 21) ]\n",
    "filtered_years = filtered_categories[ (filtered_categories['year'] > 2004) & (filtered_categories['year'] < 2011) ]\n",
    "filtered_quantity = filtered_years[ (filtered_years['quantity'] > 0.0) ]\n",
    " \n",
    "x = filtered_quantity['quantity'].sum()\n",
    "print(f'Суммарное потребление: {x}') # Результат: 240580.0"
   ]
  },
  {
   "cell_type": "code",
   "execution_count": 4,
   "metadata": {},
   "outputs": [
    {
     "name": "stdout",
     "output_type": "stream",
     "text": [
      "<class 'list'>\n",
      "<class 'pandas.core.frame.DataFrame'>\n"
     ]
    }
   ],
   "source": [
    "\"\"\"\n",
    "Выберите страницу любого сайта с табличными данными. Импортируйте таблицы в pandas dataframe.\n",
    "Примеры страниц (необязательно брать именно эти):\n",
    "https://fortrader.org/quotes\n",
    "https://www.finanz.ru/valyuty/v-realnom-vremeni\n",
    "\"\"\"\n",
    " \n",
    "page_url = 'https://www.finanz.ru/valyuty/v-realnom-vremeni'\n",
    " \n",
    "df = pd.read_html(page_url, encoding='utf-8')\n",
    "print(type(df)) # Результат: <class 'list'> - это список датафреймов.\n",
    "print(type(df[0])) # Результат: <class 'pandas.core.frame.DataFrame'>"
   ]
  }
 ],
 "metadata": {
  "kernelspec": {
   "display_name": "Python 3",
   "language": "python",
   "name": "python3"
  },
  "language_info": {
   "codemirror_mode": {
    "name": "ipython",
    "version": 3
   },
   "file_extension": ".py",
   "mimetype": "text/x-python",
   "name": "python",
   "nbconvert_exporter": "python",
   "pygments_lexer": "ipython3",
   "version": "3.8.3"
  }
 },
 "nbformat": 4,
 "nbformat_minor": 4
}
