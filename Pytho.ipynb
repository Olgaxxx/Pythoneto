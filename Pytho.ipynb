{
 "cells": [
  {
   "cell_type": "code",
   "execution_count": 1,
   "metadata": {},
   "outputs": [
    {
     "name": "stdout",
     "output_type": "stream",
     "text": [
      "Hi\n"
     ]
    }
   ],
   "source": [
    "print (\"Hi\")"
   ]
  },
  {
   "cell_type": "code",
   "execution_count": null,
   "metadata": {},
   "outputs": [],
   "source": [
    "phrase_1 = input('Насколько проще было бы писать программы, если бы не заказчики')\n",
    "phrase_2 = input('640Кб должно хватить для любых задач. Билл Гейтс (по легенде)')\n",
    "if len(phrase_1) > len(phrase_2):\n",
    "            print ('Фраза 1 длиннее фразы 2')\n",
    "elif len(phrase_1) < len(phrase_2):\n",
    "    print ('Фраза 2 длиннее фразы 1')\n",
    "else:\n",
    "   print ('Обе фразы равны по длине')"
   ]
  },
  {
   "cell_type": "code",
   "execution_count": null,
   "metadata": {},
   "outputs": [],
   "source": [
    "year = int(input('Введите год: '))\n",
    "if year%4 == 0 :\n",
    "    print ('Данный год является високосным')\n",
    "else :\n",
    "    print ('Данный год - НЕ високосный')"
   ]
  }
 ],
 "metadata": {
  "kernelspec": {
   "display_name": "Python 3",
   "language": "python",
   "name": "python3"
  },
  "language_info": {
   "codemirror_mode": {
    "name": "ipython",
    "version": 3
   },
   "file_extension": ".py",
   "mimetype": "text/x-python",
   "name": "python",
   "nbconvert_exporter": "python",
   "pygments_lexer": "ipython3",
   "version": "3.8.3"
  }
 },
 "nbformat": 4,
 "nbformat_minor": 4
}
