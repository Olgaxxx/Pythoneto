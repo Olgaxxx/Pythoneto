{
 "cells": [
  {
   "cell_type": "code",
   "execution_count": null,
   "metadata": {},
   "outputs": [],
   "source": [
    "phrase_1 = input('Введите первую фразу:')\n",
    "phrase_2 = input('Введите вторую фразу:')\n",
    "if len(phrase_1) > len(phrase_2):\n",
    "            print ('Фраза 1 длиннее фразы 2')\n",
    "elif len(phrase_1) < len(phrase_2):\n",
    "    print ('Фраза 2 длиннее фразы 1')\n",
    "else:\n",
    "   print ('Обе фразы равны по длине')"
   ]
  },
  {
   "cell_type": "code",
   "execution_count": null,
   "metadata": {},
   "outputs": [],
   "source": [
    "width = int(input('Введите ширину:'))\n",
    "length = int(input('Введите длину:'))\n",
    "height = int(input('Введите высоту:'))\n",
    "if length > 200 :\n",
    "    print('Упаковка для лыж')\n",
    "elif width < 15 and length < 15 and height < 15:\n",
    "    print('Коробка №1')\n",
    "elif 15 < width < 50 or 15 < length < 50 or 15 < height < 50:\n",
    "    print('Коробка №2')\n",
    "else :\n",
    "    print('Коробка №3')  "
   ]
  },
  {
   "cell_type": "code",
   "execution_count": null,
   "metadata": {},
   "outputs": [],
   "source": [
    "word = input('Введите слово:')\n",
    "x = len(word)//2\n",
    "if len(word)%2 == 0:\n",
    "    print(word[x-1:x+1])\n",
    "else:\n",
    "    print(word[x])"
   ]
  },
  {
   "cell_type": "code",
   "execution_count": null,
   "metadata": {},
   "outputs": [],
   "source": [
    "x = 0\n",
    "while True:\n",
    "    num = int(input('Введите число:'))\n",
    "    x = x + num\n",
    "    if num == 0:\n",
    "        print(x)\n",
    "        x = 0"
   ]
  },
  {
   "cell_type": "code",
   "execution_count": null,
   "metadata": {},
   "outputs": [],
   "source": [
    "boys = sorted(input('Введите имена парней(через пробел):').split())\n",
    "girls = sorted(input('Введите имена девушек(через пробел):').split())\n",
    "if len(boys) != len(girls):\n",
    "        print ('Внимание! Кто-то может остаться без пары!')\n",
    " \n",
    "else:\n",
    "    print('Идеальные пары:')\n",
    "    for i in range(len(boys)):    \n",
    "        print(boys[i], ' и ', girls[i])"
   ]
  },
  {
   "cell_type": "code",
   "execution_count": null,
   "metadata": {},
   "outputs": [],
   "source": [
    "countries_temperature = [\n",
    "['Thailand', [75.2, 77, 78.8, 73.4, 68, 75.2, 77]],\n",
    "['Germany', [57.2, 55.4, 59, 59, 53.6]],\n",
    "['Russia', [35.6, 37.4, 39.2, 41, 42.8, 39.2, 35.6]],\n",
    "['Poland', [50, 50, 53.6, 57.2, 55.4, 55.4]]\n",
    "]\n",
    "print('Средняя температура в странах:')\n",
    " \n",
    "for i in range(len(countries_temperature)):\n",
    "    print(countries_temperature[i][0],' - ', end='')\n",
    "    sumF=0\n",
    "    for j in range(len(countries_temperature[i][1])):\n",
    "        sumF += countries_temperature[i][1][j]\n",
    "    c = round((sumF/j-32)*5/9)\n",
    "    print(c, ' C')"
   ]
  },
  {
   "cell_type": "code",
   "execution_count": null,
   "metadata": {},
   "outputs": [],
   "source": [
    "stream = [\n",
    "'2018-01-01,user1,3',\n",
    "'2018-01-07,user1,4',\n",
    "'2018-03-29,user1,1',\n",
    "'2018-04-04,user1,13',\n",
    "'2018-01-05,user2,7',\n",
    "'2018-06-14,user3,4',\n",
    "'2018-07-02,user3,10',\n",
    "'2018-03-21,user4,19',\n",
    "'2018-03-22,user4,4',\n",
    "'2018-04-22,user4,8',\n",
    "'2018-05-03,user4,9',\n",
    "'2018-05-11,user4,11',\n",
    "]\n",
    "unicUsers = []\n",
    "viewSum = 0\n",
    "for i in range(len(stream)):\n",
    "    stream[i] = stream[i].split(',')\n",
    "    if stream[i][1] not in unicUsers:\n",
    "        unicUsers.append(stream[i][1])\n",
    "    viewSum += int(stream[i][2])\n",
    "viewAvg = viewSum/len(unicUsers)\n",
    "print('Среднеее количество просмотров на уникального пользователя: ', viewAvg)"
   ]
  },
  {
   "cell_type": "code",
   "execution_count": null,
   "metadata": {},
   "outputs": [],
   "source": [
    "letters = input('Введите числа, разделенные пробелом:').split()\n",
    " \n",
    "multLetters=[]\n",
    " \n",
    "for i in range(len(letters)):\n",
    "    if letters.count(letters[i]) > 1 and letters[i] not in multLetters:\n",
    "        multLetters.append(letters[i])\n",
    "        \n",
    "multLetters = sorted(multLetters)\n",
    " \n",
    "for i in range(len(multLetters)):\n",
    "  print(multLetters[i], end=' ')"
   ]
  }
 ],
 "metadata": {
  "kernelspec": {
   "display_name": "Python 3",
   "language": "python",
   "name": "python3"
  },
  "language_info": {
   "codemirror_mode": {
    "name": "ipython",
    "version": 3
   },
   "file_extension": ".py",
   "mimetype": "text/x-python",
   "name": "python",
   "nbconvert_exporter": "python",
   "pygments_lexer": "ipython3",
   "version": "3.8.3"
  }
 },
 "nbformat": 4,
 "nbformat_minor": 4
}
